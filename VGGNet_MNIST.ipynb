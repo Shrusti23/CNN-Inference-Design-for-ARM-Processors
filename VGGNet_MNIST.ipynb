{
  "nbformat": 4,
  "nbformat_minor": 0,
  "metadata": {
    "colab": {
      "name": "VGGNet-MNIST.ipynb",
      "provenance": [],
      "collapsed_sections": [],
      "authorship_tag": "ABX9TyOJwUs4s3ARDR/Tn45T3M0d",
      "include_colab_link": true
    },
    "kernelspec": {
      "name": "python3",
      "display_name": "Python 3"
    },
    "accelerator": "GPU"
  },
  "cells": [
    {
      "cell_type": "markdown",
      "metadata": {
        "id": "view-in-github",
        "colab_type": "text"
      },
      "source": [
        "<a href=\"https://colab.research.google.com/github/Shrusti23/EE258_neural-networks/blob/master/VGGNet_MNIST.ipynb\" target=\"_parent\"><img src=\"https://colab.research.google.com/assets/colab-badge.svg\" alt=\"Open In Colab\"/></a>"
      ]
    },
    {
      "cell_type": "code",
      "metadata": {
        "id": "RAIeE_4sfdEu",
        "colab_type": "code",
        "colab": {}
      },
      "source": [
        "#import MNIST.DataClean as dc\n",
        "import numpy as np\n",
        "import keras.layers.core as core\n",
        "import keras.layers.convolutional as conv\n",
        "import keras.models as models\n",
        "import keras.callbacks as callbacks\n",
        "import keras.utils.np_utils as kutils\n",
        "import pandas as pd"
      ],
      "execution_count": 0,
      "outputs": []
    },
    {
      "cell_type": "code",
      "metadata": {
        "id": "LXmhmsgniGn7",
        "colab_type": "code",
        "colab": {}
      },
      "source": [
        "import keras\n",
        "from keras.layers import Dense, Conv2D, BatchNormalization, Activation\n",
        "from keras.layers import AveragePooling2D, Input, Flatten\n",
        "from keras.optimizers import Adam\n",
        "from keras.callbacks import LearningRateScheduler\n",
        "from keras.regularizers import l2\n",
        "from keras import backend as K\n",
        "from keras.models import Model\n",
        "\n",
        "from sklearn.preprocessing import LabelBinarizer\n",
        "from sklearn.model_selection import train_test_split\n",
        "from sklearn.metrics import accuracy_score, classification_report, confusion_matrix\n",
        "\n",
        "import numpy as np\n",
        "import pandas as pd"
      ],
      "execution_count": 0,
      "outputs": []
    },
    {
      "cell_type": "code",
      "metadata": {
        "id": "Fs-ntC2Ef0Jg",
        "colab_type": "code",
        "colab": {}
      },
      "source": [
        "batch_size = 128 # 128\n",
        "epochs = 20 # 12\n",
        "img_rows, img_cols = 28, 28\n",
        "\n",
        "nb_filters_1 = 64\n",
        "nb_filters_2 = 128\n",
        "nb_filters_3 = 256\n",
        "nb_conv = 3\n"
      ],
      "execution_count": 0,
      "outputs": []
    },
    {
      "cell_type": "code",
      "metadata": {
        "id": "taC-noIQf4Qv",
        "colab_type": "code",
        "outputId": "4c13f68c-4e6e-485f-f6f3-f8185d404265",
        "colab": {
          "base_uri": "https://localhost:8080/",
          "height": 34
        }
      },
      "source": [
        "# Adding column names for dataframes\n",
        "colnames = ['label']\n",
        "for i in range(1, 785):\n",
        "  colnames += ['pixel'+str(i)]\n",
        "\n",
        "from google.colab import drive\n",
        "drive.mount('/content/drive')\n",
        "\n",
        "train = pd.read_csv('/content/drive/My Drive/Colab Notebooks/mnist_train.csv', names = colnames, header=None)\n",
        "test = pd.read_csv('/content/drive/My Drive/Colab Notebooks/mnist_test.csv', names = colnames, header=None)\n"
      ],
      "execution_count": 0,
      "outputs": [
        {
          "output_type": "stream",
          "text": [
            "Drive already mounted at /content/drive; to attempt to forcibly remount, call drive.mount(\"/content/drive\", force_remount=True).\n"
          ],
          "name": "stdout"
        }
      ]
    },
    {
      "cell_type": "code",
      "metadata": {
        "id": "_hLBoX1xgO_M",
        "colab_type": "code",
        "colab": {}
      },
      "source": [
        " #TRAINING\n",
        "\n",
        "# drop training label\n",
        "labels = train['label'].values\n",
        "train.drop('label', axis=1, inplace=True)\n",
        "# reshape\n",
        "images = train.values\n",
        "images = np.array([np.reshape(i, (28, 28)) for i in images])\n",
        "images = np.array([i.flatten() for i in images])\n",
        "\n",
        "label_binarizer = LabelBinarizer() # to convert numerical variables to categorical variables for multi-class classification\n",
        "labels = label_binarizer.fit_transform(labels)\n",
        "\n",
        "# splitting\n",
        "x_train, x_test, y_train, y_test = train_test_split(images, labels, test_size=0.3, random_state=101)\n",
        "\n",
        "# input image dimensions\n",
        "input_shape = (28,28,1)\n",
        "\n",
        "# normalizing training and test data\n",
        "x_train = x_train.astype('float32') / 255\n",
        "x_test = x_test.astype('float32') / 255\n",
        "\n",
        "x_train = x_train.reshape(x_train.shape[0], 28, 28, 1)\n",
        "x_test = x_test.reshape(x_test.shape[0], 28, 28, 1)\n",
        "\n",
        "z_train = kutils.to_categorical(x_train[:, 0])\n",
        "nb_classes = z_train.shape[1]\n"
      ],
      "execution_count": 0,
      "outputs": []
    },
    {
      "cell_type": "code",
      "metadata": {
        "id": "OMJLwuJxofaR",
        "colab_type": "code",
        "outputId": "598b9f12-485d-4664-d2c3-4c795959a2c2",
        "colab": {
          "base_uri": "https://localhost:8080/",
          "height": 34
        }
      },
      "source": [
        "nb_classes"
      ],
      "execution_count": 0,
      "outputs": [
        {
          "output_type": "execute_result",
          "data": {
            "text/plain": [
              "28"
            ]
          },
          "metadata": {
            "tags": []
          },
          "execution_count": 77
        }
      ]
    },
    {
      "cell_type": "code",
      "metadata": {
        "id": "UT0bz8fmiO4U",
        "colab_type": "code",
        "outputId": "edb0b7ec-f552-4c5d-bd6d-076f0775a4df",
        "colab": {
          "base_uri": "https://localhost:8080/",
          "height": 1000
        }
      },
      "source": [
        "cnn = models.Sequential()\n",
        "\n",
        "cnn.add(conv.ZeroPadding2D((1,1), input_shape=(28, 28,1),))\n",
        "cnn.add(conv.Convolution2D(nb_filters_1, nb_conv, nb_conv,  activation=\"relu\"))\n",
        "cnn.add(conv.ZeroPadding2D((1, 1)))\n",
        "cnn.add(conv.Convolution2D(nb_filters_1, nb_conv, nb_conv, activation=\"relu\"))\n",
        "cnn.add(conv.MaxPooling2D(strides=(2,2)))\n",
        "\n",
        "cnn.add(conv.ZeroPadding2D((1, 1)))\n",
        "cnn.add(conv.Convolution2D(nb_filters_2, nb_conv, nb_conv, activation=\"relu\"))\n",
        "cnn.add(conv.ZeroPadding2D((1, 1)))\n",
        "cnn.add(conv.Convolution2D(nb_filters_2, nb_conv, nb_conv, activation=\"relu\"))\n",
        "cnn.add(conv.MaxPooling2D(strides=(2,2)))\n",
        "\n",
        "cnn.add(conv.ZeroPadding2D((1, 1)))\n",
        "cnn.add(conv.Convolution2D(nb_filters_3, nb_conv, nb_conv, activation=\"relu\"))\n",
        "cnn.add(conv.ZeroPadding2D((1, 1)))\n",
        "cnn.add(conv.Convolution2D(nb_filters_3, nb_conv, nb_conv, activation=\"relu\"))\n",
        "cnn.add(conv.ZeroPadding2D((1, 1)))\n",
        "cnn.add(conv.Convolution2D(nb_filters_3, nb_conv, nb_conv, activation=\"relu\"))\n",
        "cnn.add(conv.ZeroPadding2D((1, 1)))\n",
        "cnn.add(conv.Convolution2D(nb_filters_3, nb_conv, nb_conv, activation=\"relu\"))\n",
        "cnn.add(conv.MaxPooling2D(strides=(2,2)))\n",
        "\n",
        "cnn.add(core.Flatten())\n",
        "cnn.add(core.Dropout(0.2))\n",
        "cnn.add(core.Dense(1024, activation=\"relu\"))\n",
        "cnn.add(core.Dense(10, activation=\"softmax\"))\n",
        "\n",
        "cnn.summary()\n",
        "cnn.compile(loss=\"categorical_crossentropy\", optimizer=\"adadelta\", metrics=[\"accuracy\"])\n",
        "\n",
        "#cnn.load_weights(\"VGG_Temp.h5\")\n",
        "#print(\"Model loaded.\")\n",
        "\n",
        "hist= cnn.fit(x_train, y_train, batch_size=batch_size, epochs=epochs, verbose=1, validation_data=(x_test, y_test)) #validation_split=0.01,\n",
        "        #callbacks=[callbacks.ModelCheckpoint(\"VGG_Best.h5\", save_best_only=True)]\n",
        "\n",
        "yPred = cnn.predict_classes(x_test)\n"
      ],
      "execution_count": 0,
      "outputs": [
        {
          "output_type": "stream",
          "text": [
            "/usr/local/lib/python3.6/dist-packages/ipykernel_launcher.py:4: UserWarning: Update your `Conv2D` call to the Keras 2 API: `Conv2D(64, (3, 3), activation=\"relu\")`\n",
            "  after removing the cwd from sys.path.\n",
            "/usr/local/lib/python3.6/dist-packages/ipykernel_launcher.py:6: UserWarning: Update your `Conv2D` call to the Keras 2 API: `Conv2D(64, (3, 3), activation=\"relu\")`\n",
            "  \n",
            "/usr/local/lib/python3.6/dist-packages/ipykernel_launcher.py:10: UserWarning: Update your `Conv2D` call to the Keras 2 API: `Conv2D(128, (3, 3), activation=\"relu\")`\n",
            "  # Remove the CWD from sys.path while we load stuff.\n",
            "/usr/local/lib/python3.6/dist-packages/ipykernel_launcher.py:12: UserWarning: Update your `Conv2D` call to the Keras 2 API: `Conv2D(128, (3, 3), activation=\"relu\")`\n",
            "  if sys.path[0] == '':\n",
            "/usr/local/lib/python3.6/dist-packages/ipykernel_launcher.py:16: UserWarning: Update your `Conv2D` call to the Keras 2 API: `Conv2D(256, (3, 3), activation=\"relu\")`\n",
            "  app.launch_new_instance()\n",
            "/usr/local/lib/python3.6/dist-packages/ipykernel_launcher.py:18: UserWarning: Update your `Conv2D` call to the Keras 2 API: `Conv2D(256, (3, 3), activation=\"relu\")`\n",
            "/usr/local/lib/python3.6/dist-packages/ipykernel_launcher.py:20: UserWarning: Update your `Conv2D` call to the Keras 2 API: `Conv2D(256, (3, 3), activation=\"relu\")`\n",
            "/usr/local/lib/python3.6/dist-packages/ipykernel_launcher.py:22: UserWarning: Update your `Conv2D` call to the Keras 2 API: `Conv2D(256, (3, 3), activation=\"relu\")`\n"
          ],
          "name": "stderr"
        },
        {
          "output_type": "stream",
          "text": [
            "Model: \"sequential_8\"\n",
            "_________________________________________________________________\n",
            "Layer (type)                 Output Shape              Param #   \n",
            "=================================================================\n",
            "zero_padding2d_51 (ZeroPaddi (None, 30, 30, 1)         0         \n",
            "_________________________________________________________________\n",
            "conv2d_51 (Conv2D)           (None, 28, 28, 64)        640       \n",
            "_________________________________________________________________\n",
            "zero_padding2d_52 (ZeroPaddi (None, 30, 30, 64)        0         \n",
            "_________________________________________________________________\n",
            "conv2d_52 (Conv2D)           (None, 28, 28, 64)        36928     \n",
            "_________________________________________________________________\n",
            "max_pooling2d_20 (MaxPooling (None, 14, 14, 64)        0         \n",
            "_________________________________________________________________\n",
            "zero_padding2d_53 (ZeroPaddi (None, 16, 16, 64)        0         \n",
            "_________________________________________________________________\n",
            "conv2d_53 (Conv2D)           (None, 14, 14, 128)       73856     \n",
            "_________________________________________________________________\n",
            "zero_padding2d_54 (ZeroPaddi (None, 16, 16, 128)       0         \n",
            "_________________________________________________________________\n",
            "conv2d_54 (Conv2D)           (None, 14, 14, 128)       147584    \n",
            "_________________________________________________________________\n",
            "max_pooling2d_21 (MaxPooling (None, 7, 7, 128)         0         \n",
            "_________________________________________________________________\n",
            "zero_padding2d_55 (ZeroPaddi (None, 9, 9, 128)         0         \n",
            "_________________________________________________________________\n",
            "conv2d_55 (Conv2D)           (None, 7, 7, 256)         295168    \n",
            "_________________________________________________________________\n",
            "zero_padding2d_56 (ZeroPaddi (None, 9, 9, 256)         0         \n",
            "_________________________________________________________________\n",
            "conv2d_56 (Conv2D)           (None, 7, 7, 256)         590080    \n",
            "_________________________________________________________________\n",
            "zero_padding2d_57 (ZeroPaddi (None, 9, 9, 256)         0         \n",
            "_________________________________________________________________\n",
            "conv2d_57 (Conv2D)           (None, 7, 7, 256)         590080    \n",
            "_________________________________________________________________\n",
            "zero_padding2d_58 (ZeroPaddi (None, 9, 9, 256)         0         \n",
            "_________________________________________________________________\n",
            "conv2d_58 (Conv2D)           (None, 7, 7, 256)         590080    \n",
            "_________________________________________________________________\n",
            "max_pooling2d_22 (MaxPooling (None, 3, 3, 256)         0         \n",
            "_________________________________________________________________\n",
            "flatten_7 (Flatten)          (None, 2304)              0         \n",
            "_________________________________________________________________\n",
            "dropout_7 (Dropout)          (None, 2304)              0         \n",
            "_________________________________________________________________\n",
            "dense_12 (Dense)             (None, 1024)              2360320   \n",
            "_________________________________________________________________\n",
            "dense_13 (Dense)             (None, 10)                10250     \n",
            "=================================================================\n",
            "Total params: 4,694,986\n",
            "Trainable params: 4,694,986\n",
            "Non-trainable params: 0\n",
            "_________________________________________________________________\n",
            "Train on 42000 samples, validate on 18000 samples\n",
            "Epoch 1/20\n",
            "42000/42000 [==============================] - 9s 225us/step - loss: 0.5007 - accuracy: 0.8329 - val_loss: 0.1248 - val_accuracy: 0.9627\n",
            "Epoch 2/20\n",
            "42000/42000 [==============================] - 9s 217us/step - loss: 0.0668 - accuracy: 0.9786 - val_loss: 0.0475 - val_accuracy: 0.9867\n",
            "Epoch 3/20\n",
            "42000/42000 [==============================] - 9s 216us/step - loss: 0.0408 - accuracy: 0.9872 - val_loss: 0.0445 - val_accuracy: 0.9885\n",
            "Epoch 4/20\n",
            "42000/42000 [==============================] - 9s 216us/step - loss: 0.0290 - accuracy: 0.9908 - val_loss: 0.0515 - val_accuracy: 0.9858\n",
            "Epoch 5/20\n",
            "42000/42000 [==============================] - 9s 215us/step - loss: 0.0228 - accuracy: 0.9924 - val_loss: 0.0365 - val_accuracy: 0.9890\n",
            "Epoch 6/20\n",
            "42000/42000 [==============================] - 9s 216us/step - loss: 0.0162 - accuracy: 0.9948 - val_loss: 0.0349 - val_accuracy: 0.9898\n",
            "Epoch 7/20\n",
            "42000/42000 [==============================] - 9s 218us/step - loss: 0.0140 - accuracy: 0.9955 - val_loss: 0.0334 - val_accuracy: 0.9914\n",
            "Epoch 8/20\n",
            "42000/42000 [==============================] - 9s 216us/step - loss: 0.0102 - accuracy: 0.9968 - val_loss: 0.0355 - val_accuracy: 0.9914\n",
            "Epoch 9/20\n",
            "42000/42000 [==============================] - 9s 217us/step - loss: 0.0090 - accuracy: 0.9970 - val_loss: 0.0328 - val_accuracy: 0.9922\n",
            "Epoch 10/20\n",
            "42000/42000 [==============================] - 9s 216us/step - loss: 0.0070 - accuracy: 0.9977 - val_loss: 0.0368 - val_accuracy: 0.9916\n",
            "Epoch 11/20\n",
            "42000/42000 [==============================] - 9s 217us/step - loss: 0.0061 - accuracy: 0.9982 - val_loss: 0.0317 - val_accuracy: 0.9930\n",
            "Epoch 12/20\n",
            "42000/42000 [==============================] - 9s 216us/step - loss: 0.0036 - accuracy: 0.9990 - val_loss: 0.0334 - val_accuracy: 0.9926\n",
            "Epoch 13/20\n",
            "42000/42000 [==============================] - 9s 216us/step - loss: 0.0031 - accuracy: 0.9991 - val_loss: 0.0400 - val_accuracy: 0.9930\n",
            "Epoch 14/20\n",
            "42000/42000 [==============================] - 9s 215us/step - loss: 0.0036 - accuracy: 0.9989 - val_loss: 0.0391 - val_accuracy: 0.9922\n",
            "Epoch 15/20\n",
            "42000/42000 [==============================] - 9s 215us/step - loss: 0.0044 - accuracy: 0.9986 - val_loss: 0.0424 - val_accuracy: 0.9913\n",
            "Epoch 16/20\n",
            "42000/42000 [==============================] - 9s 215us/step - loss: 0.0034 - accuracy: 0.9991 - val_loss: 0.0444 - val_accuracy: 0.9902\n",
            "Epoch 17/20\n",
            "42000/42000 [==============================] - 9s 215us/step - loss: 0.0025 - accuracy: 0.9993 - val_loss: 0.0388 - val_accuracy: 0.9915\n",
            "Epoch 18/20\n",
            "42000/42000 [==============================] - 9s 215us/step - loss: 0.0034 - accuracy: 0.9989 - val_loss: 0.0500 - val_accuracy: 0.9914\n",
            "Epoch 19/20\n",
            "42000/42000 [==============================] - 9s 215us/step - loss: 0.0020 - accuracy: 0.9993 - val_loss: 0.0517 - val_accuracy: 0.9911\n",
            "Epoch 20/20\n",
            "42000/42000 [==============================] - 9s 215us/step - loss: 0.0036 - accuracy: 0.9990 - val_loss: 0.0432 - val_accuracy: 0.9924\n"
          ],
          "name": "stdout"
        }
      ]
    },
    {
      "cell_type": "code",
      "metadata": {
        "id": "me-RB1uBihqq",
        "colab_type": "code",
        "outputId": "e8d059d9-7343-4636-a0be-8469fc0bbe0c",
        "colab": {
          "base_uri": "https://localhost:8080/",
          "height": 34
        }
      },
      "source": [
        "score = cnn.evaluate(x_test, y_test, verbose=0)\n",
        "\n",
        "print(\"Accuracy on test set: \",score[1])"
      ],
      "execution_count": 0,
      "outputs": [
        {
          "output_type": "stream",
          "text": [
            "Accuracy on test set:  0.992388904094696\n"
          ],
          "name": "stdout"
        }
      ]
    },
    {
      "cell_type": "code",
      "metadata": {
        "id": "A--dqHE0tW0t",
        "colab_type": "code",
        "outputId": "51927d72-4f9a-49fc-f9d9-18d40e71f95a",
        "colab": {
          "base_uri": "https://localhost:8080/",
          "height": 34
        }
      },
      "source": [
        "yPred"
      ],
      "execution_count": 0,
      "outputs": [
        {
          "output_type": "execute_result",
          "data": {
            "text/plain": [
              "array([7, 4, 9, ..., 5, 9, 9])"
            ]
          },
          "metadata": {
            "tags": []
          },
          "execution_count": 80
        }
      ]
    },
    {
      "cell_type": "code",
      "metadata": {
        "id": "VKJI3TifrD0U",
        "colab_type": "code",
        "outputId": "c991fc26-e840-4c3c-da09-5e5836c9495f",
        "colab": {
          "base_uri": "https://localhost:8080/",
          "height": 573
        }
      },
      "source": [
        "    import matplotlib.pyplot as plt\n",
        "    plt.plot(hist.history['accuracy']) \n",
        "    plt.plot(hist.history['val_accuracy'])\n",
        "    plt.title('model accuracy') \n",
        "    plt.ylabel('accuracy') \n",
        "    plt.xlabel('epoch')\n",
        "    plt.legend(['train', 'test'], loc='upper left')\n",
        "    plt.show()\n",
        "\n",
        "    plt.plot(hist.history['loss'])\n",
        "    plt.plot(hist.history['val_loss'])\n",
        "    plt.title('model loss')\n",
        "    plt.ylabel('loss')\n",
        "    plt.xlabel('epoch')\n",
        "    plt.legend(['train', 'test'], loc='upper left')\n",
        "    plt.show()"
      ],
      "execution_count": 0,
      "outputs": [
        {
          "output_type": "display_data",
          "data": {
            "image/png": "[encoded data removed]",
            "text/plain": [
              "<Figure size 432x288 with 1 Axes>"
            ]
          },
          "metadata": {
            "tags": [],
            "needs_background": "light"
          }
        },
        {
          "output_type": "display_data",
          "data": {
            "image/png": "[encoded data removed]",
            "text/plain": [
              "<Figure size 432x288 with 1 Axes>"
            ]
          },
          "metadata": {
            "tags": [],
            "needs_background": "light"
          }
        }
      ]
    },
    {
      "cell_type": "code",
      "metadata": {
        "id": "BwISQBfNrpMs",
        "colab_type": "code",
        "outputId": "4d309a86-725b-46dc-efc6-828f1f90c127",
        "colab": {
          "base_uri": "https://localhost:8080/",
          "height": 666
        }
      },
      "source": [
        "! pip install virtualenv\n",
        "\n",
        "!pip install --upgrade wandb\n",
        "\n",
        "import wandb\n",
        "\n",
        "wandb.init(sync_tensorboard=True)"
      ],
      "execution_count": 0,
      "outputs": [
        {
          "output_type": "stream",
          "text": [
            "Requirement already satisfied: virtualenv in /usr/local/lib/python3.6/dist-packages (20.0.18)\n",
            "Requirement already satisfied: six<2,>=1.9.0 in /usr/local/lib/python3.6/dist-packages (from virtualenv) (1.12.0)\n",
            "Requirement already satisfied: filelock<4,>=3.0.0 in /usr/local/lib/python3.6/dist-packages (from virtualenv) (3.0.12)\n",
            "Requirement already satisfied: importlib-resources<2,>=1.0; python_version < \"3.7\" in /usr/local/lib/python3.6/dist-packages (from virtualenv) (1.4.0)\n",
            "Requirement already satisfied: distlib<1,>=0.3.0 in /usr/local/lib/python3.6/dist-packages (from virtualenv) (0.3.0)\n",
            "Requirement already satisfied: appdirs<2,>=1.4.3 in /usr/local/lib/python3.6/dist-packages (from virtualenv) (1.4.3)\n",
            "Requirement already satisfied: importlib-metadata<2,>=0.12; python_version < \"3.8\" in /usr/local/lib/python3.6/dist-packages (from virtualenv) (1.6.0)\n",
            "Requirement already satisfied: zipp>=0.4; python_version < \"3.8\" in /usr/local/lib/python3.6/dist-packages (from importlib-resources<2,>=1.0; python_version < \"3.7\"->virtualenv) (3.1.0)\n",
            "Requirement already up-to-date: wandb in /usr/local/lib/python3.6/dist-packages (0.8.32)\n",
            "Requirement already satisfied, skipping upgrade: gql==0.2.0 in /usr/local/lib/python3.6/dist-packages (from wandb) (0.2.0)\n",
            "Requirement already satisfied, skipping upgrade: GitPython>=1.0.0 in /usr/local/lib/python3.6/dist-packages (from wandb) (3.1.1)\n",
            "Requirement already satisfied, skipping upgrade: watchdog>=0.8.3 in /usr/local/lib/python3.6/dist-packages (from wandb) (0.10.2)\n",
            "Requirement already satisfied, skipping upgrade: configparser>=3.8.1 in /usr/local/lib/python3.6/dist-packages (from wandb) (5.0.0)\n",
            "Requirement already satisfied, skipping upgrade: psutil>=5.0.0 in /usr/local/lib/python3.6/dist-packages (from wandb) (5.4.8)\n",
            "Requirement already satisfied, skipping upgrade: shortuuid>=0.5.0 in /usr/local/lib/python3.6/dist-packages (from wandb) (1.0.1)\n",
            "Requirement already satisfied, skipping upgrade: PyYAML>=3.10 in /usr/local/lib/python3.6/dist-packages (from wandb) (3.13)\n",
            "Requirement already satisfied, skipping upgrade: requests>=2.0.0 in /usr/local/lib/python3.6/dist-packages (from wandb) (2.21.0)\n",
            "Requirement already satisfied, skipping upgrade: sentry-sdk>=0.4.0 in /usr/local/lib/python3.6/dist-packages (from wandb) (0.14.3)\n",
            "Requirement already satisfied, skipping upgrade: nvidia-ml-py3>=7.352.0 in /usr/local/lib/python3.6/dist-packages (from wandb) (7.352.0)\n",
            "Requirement already satisfied, skipping upgrade: subprocess32>=3.5.3 in /usr/local/lib/python3.6/dist-packages (from wandb) (3.5.4)\n",
            "Requirement already satisfied, skipping upgrade: six>=1.10.0 in /usr/local/lib/python3.6/dist-packages (from wandb) (1.12.0)\n",
            "Requirement already satisfied, skipping upgrade: docker-pycreds>=0.4.0 in /usr/local/lib/python3.6/dist-packages (from wandb) (0.4.0)\n",
            "Requirement already satisfied, skipping upgrade: python-dateutil>=2.6.1 in /usr/local/lib/python3.6/dist-packages (from wandb) (2.8.1)\n",
            "Requirement already satisfied, skipping upgrade: Click>=7.0 in /usr/local/lib/python3.6/dist-packages (from wandb) (7.1.1)\n",
            "Requirement already satisfied, skipping upgrade: promise<3,>=2.0 in /usr/local/lib/python3.6/dist-packages (from gql==0.2.0->wandb) (2.3)\n",
            "Requirement already satisfied, skipping upgrade: graphql-core<2,>=0.5.0 in /usr/local/lib/python3.6/dist-packages (from gql==0.2.0->wandb) (1.1)\n",
            "Requirement already satisfied, skipping upgrade: gitdb<5,>=4.0.1 in /usr/local/lib/python3.6/dist-packages (from GitPython>=1.0.0->wandb) (4.0.4)\n",
            "Requirement already satisfied, skipping upgrade: pathtools>=0.1.1 in /usr/local/lib/python3.6/dist-packages (from watchdog>=0.8.3->wandb) (0.1.2)\n",
            "Requirement already satisfied, skipping upgrade: idna<2.9,>=2.5 in /usr/local/lib/python3.6/dist-packages (from requests>=2.0.0->wandb) (2.8)\n",
            "Requirement already satisfied, skipping upgrade: certifi>=2017.4.17 in /usr/local/lib/python3.6/dist-packages (from requests>=2.0.0->wandb) (2020.4.5.1)\n",
            "Requirement already satisfied, skipping upgrade: urllib3<1.25,>=1.21.1 in /usr/local/lib/python3.6/dist-packages (from requests>=2.0.0->wandb) (1.24.3)\n",
            "Requirement already satisfied, skipping upgrade: chardet<3.1.0,>=3.0.2 in /usr/local/lib/python3.6/dist-packages (from requests>=2.0.0->wandb) (3.0.4)\n",
            "Requirement already satisfied, skipping upgrade: smmap<4,>=3.0.1 in /usr/local/lib/python3.6/dist-packages (from gitdb<5,>=4.0.1->GitPython>=1.0.0->wandb) (3.0.2)\n"
          ],
          "name": "stdout"
        },
        {
          "output_type": "display_data",
          "data": {
            "text/html": [
              "\n",
              "                Logging results to <a href=\"https://wandb.com\" target=\"_blank\">Weights & Biases</a> <a href=\"https://docs.wandb.com/integrations/jupyter.html\" target=\"_blank\">(Documentation)</a>.<br/>\n",
              "                Project page: <a href=\"https://app.wandb.ai/shrusti/uncategorized\" target=\"_blank\">https://app.wandb.ai/shrusti/uncategorized</a><br/>\n",
              "                Run page: <a href=\"https://app.wandb.ai/shrusti/uncategorized/runs/2j7ipuvs\" target=\"_blank\">https://app.wandb.ai/shrusti/uncategorized/runs/2j7ipuvs</a><br/>\n",
              "            "
            ],
            "text/plain": [
              "<IPython.core.display.HTML object>"
            ]
          },
          "metadata": {
            "tags": []
          }
        },
        {
          "output_type": "execute_result",
          "data": {
            "text/plain": [
              "W&B Run: https://app.wandb.ai/shrusti/uncategorized/runs/2j7ipuvs"
            ]
          },
          "metadata": {
            "tags": []
          },
          "execution_count": 82
        }
      ]
    }
  ]
}