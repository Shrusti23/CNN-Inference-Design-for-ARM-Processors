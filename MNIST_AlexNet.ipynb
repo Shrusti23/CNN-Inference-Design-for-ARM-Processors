{
  "nbformat": 4,
  "nbformat_minor": 0,
  "metadata": {
    "colab": {
      "name": "MNIST_AlexNet.ipynb",
      "provenance": [],
      "collapsed_sections": [],
      "authorship_tag": "ABX9TyNP+fawkM8kXbWJhM5zRUwe",
      "include_colab_link": true
    },
    "kernelspec": {
      "name": "python3",
      "display_name": "Python 3"
    },
    "accelerator": "GPU"
  },
  "cells": [
    {
      "cell_type": "markdown",
      "metadata": {
        "id": "view-in-github",
        "colab_type": "text"
      },
      "source": [
        "<a href=\"https://colab.research.google.com/github/Shrusti23/EE258_neural-networks/blob/master/MNIST_AlexNet.ipynb\" target=\"_parent\"><img src=\"https://colab.research.google.com/assets/colab-badge.svg\" alt=\"Open In Colab\"/></a>"
      ]
    },
    {
      "cell_type": "code",
      "metadata": {
        "id": "tV6z93JQo4Rk",
        "colab_type": "code",
        "colab": {}
      },
      "source": [
        "import tensorflow as tf\n",
        "from tensorflow import keras\n",
        "from tensorflow.keras.utils import to_categorical\n",
        "from tensorflow.keras.datasets import mnist\n",
        "\n",
        "import numpy as np\n",
        "\n",
        "from keras.models import Model\n",
        "from keras.layers import Input, Dense\n"
      ],
      "execution_count": 0,
      "outputs": []
    },
    {
      "cell_type": "code",
      "metadata": {
        "id": "OkLnU2mapk7I",
        "colab_type": "code",
        "colab": {}
      },
      "source": [
        "learning_rate = 0.001\n",
        "epochs=20\n",
        "batch_size=64\n",
        "display_step=20\n",
        "(train_images,train_labels), (test_images,test_labels) = mnist.load_data()\n"
      ],
      "execution_count": 0,
      "outputs": []
    },
    {
      "cell_type": "code",
      "metadata": {
        "colab_type": "code",
        "id": "W-3FtTI7VFRz",
        "colab": {}
      },
      "source": [
        "def load_data():\n",
        "  (train_images,train_labels), (test_images,test_labels) = mnist.load_data()\n",
        "\n",
        "  train_images = train_images.astype(np.object) \n",
        "  test_images = test_images.astype(np.object) \n",
        "\n",
        "  train_images = np.expand_dims(train_images, axis=-1)\n",
        "  test_images = np.expand_dims(test_images, axis=-1)\n",
        "\n",
        "  train_labels = to_categorical(train_labels,10)\n",
        "  test_labels = to_categorical(test_labels,10)\n",
        "\n",
        "  return train_images, train_labels, test_images, test_labels\n",
        "\n",
        "#train_dataset = tf.data.Dataset.from_tensor_slices((train_images, train_labels)).shuffle(buffer_size=1000000).batch(batch_size)\n",
        "#test_dataset = tf.data.Dataset.from_tensor_slices((test_images, test_labels)).batch(batch_size)\n",
        "\n"
      ],
      "execution_count": 0,
      "outputs": []
    },
    {
      "cell_type": "code",
      "metadata": {
        "id": "xLCt7wRKN7qc",
        "colab_type": "code",
        "colab": {}
      },
      "source": [
        "train_dataset = tf.data.Dataset.from_tensor_slices((train_images, train_labels)).shuffle(buffer_size=1000000).batch(batch_size)\n",
        "test_dataset = tf.data.Dataset.from_tensor_slices((test_images, test_labels)).batch(batch_size)\n"
      ],
      "execution_count": 0,
      "outputs": []
    },
    {
      "cell_type": "code",
      "metadata": {
        "id": "cpmhg3wal0e1",
        "colab_type": "code",
        "colab": {}
      },
      "source": [
        "from sklearn.preprocessing import LabelBinarizer\n",
        "\n",
        "label_binarizer = LabelBinarizer() # to convert numerical variables to categorical variables for multi-class classification\n",
        "train_labels = label_binarizer.fit_transform(train_labels)\n",
        "\n",
        "test_labels = label_binarizer.fit_transform(test_labels)\n"
      ],
      "execution_count": 0,
      "outputs": []
    },
    {
      "cell_type": "code",
      "metadata": {
        "id": "QqNcodUYnHO2",
        "colab_type": "code",
        "outputId": "c9096028-7a49-419d-b91b-397b5cbe1341",
        "colab": {
          "base_uri": "https://localhost:8080/",
          "height": 34
        }
      },
      "source": [
        "labels[0]"
      ],
      "execution_count": 0,
      "outputs": [
        {
          "output_type": "execute_result",
          "data": {
            "text/plain": [
              "array([0, 0, 0, 0, 0, 1, 0, 0, 0, 0])"
            ]
          },
          "metadata": {
            "tags": []
          },
          "execution_count": 33
        }
      ]
    },
    {
      "cell_type": "code",
      "metadata": {
        "id": "iS-95NeyUmWL",
        "colab_type": "code",
        "outputId": "d5fbd22e-6407-46a2-c76c-399dff3928ee",
        "colab": {
          "base_uri": "https://localhost:8080/",
          "height": 51
        }
      },
      "source": [
        ""
      ],
      "execution_count": 0,
      "outputs": [
        {
          "output_type": "stream",
          "text": [
            "Downloading data from https://storage.googleapis.com/tensorflow/tf-keras-datasets/mnist.npz\n",
            "11493376/11490434 [==============================] - 0s 0us/step\n"
          ],
          "name": "stdout"
        }
      ]
    },
    {
      "cell_type": "code",
      "metadata": {
        "id": "O2RU9fFfVJ3t",
        "colab_type": "code",
        "outputId": "e079d704-bee2-4bce-d4cb-b44b2388bdd0",
        "colab": {
          "base_uri": "https://localhost:8080/",
          "height": 34
        }
      },
      "source": [
        "test_images.shape\n"
      ],
      "execution_count": 0,
      "outputs": [
        {
          "output_type": "execute_result",
          "data": {
            "text/plain": [
              "(10000, 28, 28)"
            ]
          },
          "metadata": {
            "tags": []
          },
          "execution_count": 46
        }
      ]
    },
    {
      "cell_type": "code",
      "metadata": {
        "id": "986Q59MQWAOM",
        "colab_type": "code",
        "outputId": "7718857f-0085-4242-b663-d27c59ee0dc2",
        "colab": {
          "base_uri": "https://localhost:8080/",
          "height": 34
        }
      },
      "source": [
        "test_labels.shape"
      ],
      "execution_count": 0,
      "outputs": [
        {
          "output_type": "execute_result",
          "data": {
            "text/plain": [
              "(10000, 10)"
            ]
          },
          "metadata": {
            "tags": []
          },
          "execution_count": 47
        }
      ]
    },
    {
      "cell_type": "code",
      "metadata": {
        "id": "93pA6sY1r5YY",
        "colab_type": "code",
        "outputId": "d54b02fc-c8f7-453c-ca5f-f04aee26cd0d",
        "colab": {
          "base_uri": "https://localhost:8080/",
          "height": 1000
        }
      },
      "source": [
        "def AlexNet_Model():\n",
        "  inputs = keras.Input(shape=(28, 28, 1))\n",
        "\n",
        "  #first convolution layer:\n",
        "  conv1 = keras.layers.Conv2D(filters=64, kernel_size=(3, 3), strides=1, padding='SAME', activation= tf.nn.relu)(inputs)\n",
        "  pool1 = keras.layers.MaxPool2D(pool_size=(2, 2), padding='SAME')(conv1)\n",
        "  norm1 = tf.nn.local_response_normalization(pool1, depth_radius=4, bias= 1.0, alpha= 0.001/ 9.0, beta=0.75)\n",
        "  drop1 = keras.layers.Dropout(0.8)(norm1)\n",
        "\n",
        "  #second convolution layer:\n",
        "  conv2 = keras.layers.Conv2D(filters=128, kernel_size=(3, 3), strides=1, padding='SAME', activation= tf.nn.relu)(drop1)\n",
        "  pool2 = keras.layers.MaxPool2D(pool_size=(2, 2), padding='SAME')(conv2)\n",
        "  norm2 = tf.nn.local_response_normalization(pool2, depth_radius=4, bias= 1.0, alpha= 0.001/ 9.0, beta=0.75)\n",
        "  drop2 = keras.layers.Dropout(0.8)(norm2)\n",
        "\n",
        "  #third convolution layer:\n",
        "  conv3 = keras.layers.Conv2D(filters=256, kernel_size=(3, 3), strides=1, padding='SAME', activation= tf.nn.relu)(drop2)\n",
        "  pool3 = keras.layers.MaxPool2D(pool_size=(2, 2), padding='SAME')(conv3)\n",
        "  norm3 = tf.nn.local_response_normalization(pool3, depth_radius=4, bias= 1.0, alpha= 0.001/ 9.0, beta=0.75)\n",
        "  drop3 = keras.layers.Dropout(0.8)(norm3)\n",
        "\n",
        "  #fully connected layer:\n",
        "  flat = keras.layers.Flatten()(drop3)\n",
        "  dense1 = keras.layers.Dense(units=1024, activation=tf.nn.relu)(flat)\n",
        "  dense2 = keras.layers.Dense(units=1024, activation=tf.nn.relu)(dense1)\n",
        "\n",
        "  logits = keras.layers.Dense(units=10)(dense2)\n",
        "  return keras.Model(inputs=inputs, outputs=logits)\n",
        "\n",
        "model = AlexNet_Model()\n",
        "model.summary()\n",
        "optimizer = tf.optimizers.Adam(learning_rate=learning_rate)\n",
        "model.compile(loss=keras.losses.categorical_crossentropy,\n",
        "              optimizer=keras.optimizers.Adadelta(),\n",
        "              metrics=['accuracy'])\n",
        "\n",
        "hist= model.fit(train_images, train_labels,\n",
        "                batch_size=batch_size,\n",
        "                epochs=20,\n",
        "                verbose=1,\n",
        "                validation_data=(test_images, test_labels))\n",
        "score = model.evaluate(test_images, test_labels, verbose=0)\n",
        "print('Test loss:', score[0])\n",
        "print('Test accuracy:', score[1])"
      ],
      "execution_count": 0,
      "outputs": [
        {
          "output_type": "stream",
          "text": [
            "Model: \"model_6\"\n",
            "_________________________________________________________________\n",
            "Layer (type)                 Output Shape              Param #   \n",
            "=================================================================\n",
            "input_7 (InputLayer)         [(None, 28, 28, 1)]       0         \n",
            "_________________________________________________________________\n",
            "conv2d_18 (Conv2D)           (None, 28, 28, 64)        640       \n",
            "_________________________________________________________________\n",
            "max_pooling2d_18 (MaxPooling (None, 14, 14, 64)        0         \n",
            "_________________________________________________________________\n",
            "tf_op_layer_LRN_18 (TensorFl [(None, 14, 14, 64)]      0         \n",
            "_________________________________________________________________\n",
            "dropout_18 (Dropout)         (None, 14, 14, 64)        0         \n",
            "_________________________________________________________________\n",
            "conv2d_19 (Conv2D)           (None, 14, 14, 128)       73856     \n",
            "_________________________________________________________________\n",
            "max_pooling2d_19 (MaxPooling (None, 7, 7, 128)         0         \n",
            "_________________________________________________________________\n",
            "tf_op_layer_LRN_19 (TensorFl [(None, 7, 7, 128)]       0         \n",
            "_________________________________________________________________\n",
            "dropout_19 (Dropout)         (None, 7, 7, 128)         0         \n",
            "_________________________________________________________________\n",
            "conv2d_20 (Conv2D)           (None, 7, 7, 256)         295168    \n",
            "_________________________________________________________________\n",
            "max_pooling2d_20 (MaxPooling (None, 4, 4, 256)         0         \n",
            "_________________________________________________________________\n",
            "tf_op_layer_LRN_20 (TensorFl [(None, 4, 4, 256)]       0         \n",
            "_________________________________________________________________\n",
            "dropout_20 (Dropout)         (None, 4, 4, 256)         0         \n",
            "_________________________________________________________________\n",
            "flatten_6 (Flatten)          (None, 4096)              0         \n",
            "_________________________________________________________________\n",
            "dense_18 (Dense)             (None, 1024)              4195328   \n",
            "_________________________________________________________________\n",
            "dense_19 (Dense)             (None, 1024)              1049600   \n",
            "_________________________________________________________________\n",
            "dense_20 (Dense)             (None, 10)                10250     \n",
            "=================================================================\n",
            "Total params: 5,624,842\n",
            "Trainable params: 5,624,842\n",
            "Non-trainable params: 0\n",
            "_________________________________________________________________\n",
            "Epoch 1/20\n",
            "938/938 [==============================] - 10s 10ms/step - loss: 7.3824 - accuracy: 0.0983 - val_loss: 6.8258 - val_accuracy: 0.1131\n",
            "Epoch 2/20\n",
            "938/938 [==============================] - 10s 10ms/step - loss: 7.2888 - accuracy: 0.0992 - val_loss: 6.9028 - val_accuracy: 0.1118\n",
            "Epoch 3/20\n",
            "938/938 [==============================] - 10s 10ms/step - loss: 7.4045 - accuracy: 0.0978 - val_loss: 7.2660 - val_accuracy: 0.1135\n",
            "Epoch 4/20\n",
            "938/938 [==============================] - 10s 10ms/step - loss: 7.5324 - accuracy: 0.0979 - val_loss: 6.9098 - val_accuracy: 0.1178\n",
            "Epoch 5/20\n",
            "938/938 [==============================] - 10s 10ms/step - loss: 7.5256 - accuracy: 0.0988 - val_loss: 6.4449 - val_accuracy: 0.1183\n",
            "Epoch 6/20\n",
            "938/938 [==============================] - 10s 10ms/step - loss: 7.4735 - accuracy: 0.0984 - val_loss: 6.1346 - val_accuracy: 0.1235\n",
            "Epoch 7/20\n",
            "938/938 [==============================] - 10s 10ms/step - loss: 7.3907 - accuracy: 0.0993 - val_loss: 5.7687 - val_accuracy: 0.1297\n",
            "Epoch 8/20\n",
            "938/938 [==============================] - 10s 10ms/step - loss: 7.3981 - accuracy: 0.1011 - val_loss: 5.3307 - val_accuracy: 0.1391\n",
            "Epoch 9/20\n",
            "938/938 [==============================] - 10s 10ms/step - loss: 7.3955 - accuracy: 0.0992 - val_loss: 5.5043 - val_accuracy: 0.1427\n",
            "Epoch 10/20\n",
            "938/938 [==============================] - 10s 10ms/step - loss: 7.4651 - accuracy: 0.0985 - val_loss: 6.1627 - val_accuracy: 0.1440\n",
            "Epoch 11/20\n",
            "938/938 [==============================] - 10s 10ms/step - loss: 7.5097 - accuracy: 0.0983 - val_loss: 7.0323 - val_accuracy: 0.1465\n",
            "Epoch 12/20\n",
            "938/938 [==============================] - 10s 10ms/step - loss: 7.4855 - accuracy: 0.0993 - val_loss: 7.5277 - val_accuracy: 0.1505\n",
            "Epoch 13/20\n",
            "938/938 [==============================] - 10s 10ms/step - loss: 7.3924 - accuracy: 0.0983 - val_loss: 7.4835 - val_accuracy: 0.1614\n",
            "Epoch 14/20\n",
            "938/938 [==============================] - 10s 10ms/step - loss: 7.4231 - accuracy: 0.1016 - val_loss: 7.5657 - val_accuracy: 0.1634\n",
            "Epoch 15/20\n",
            "938/938 [==============================] - 10s 10ms/step - loss: 7.5581 - accuracy: 0.1001 - val_loss: 7.1969 - val_accuracy: 0.1637\n",
            "Epoch 16/20\n",
            "938/938 [==============================] - 10s 10ms/step - loss: 7.5541 - accuracy: 0.0994 - val_loss: 6.9531 - val_accuracy: 0.1641\n",
            "Epoch 17/20\n",
            "938/938 [==============================] - 10s 10ms/step - loss: 7.5167 - accuracy: 0.1004 - val_loss: 6.4573 - val_accuracy: 0.1631\n",
            "Epoch 18/20\n",
            "938/938 [==============================] - 10s 10ms/step - loss: 7.5487 - accuracy: 0.0985 - val_loss: 6.4907 - val_accuracy: 0.1619\n",
            "Epoch 19/20\n",
            "938/938 [==============================] - 10s 10ms/step - loss: 7.5368 - accuracy: 0.0984 - val_loss: 6.6815 - val_accuracy: 0.1620\n",
            "Epoch 20/20\n",
            "938/938 [==============================] - 10s 10ms/step - loss: 7.5490 - accuracy: 0.1006 - val_loss: 6.7355 - val_accuracy: 0.1645\n",
            "Test loss: 6.739346027374268\n",
            "Test accuracy: 0.16449999809265137\n"
          ],
          "name": "stdout"
        }
      ]
    },
    {
      "cell_type": "code",
      "metadata": {
        "id": "-W0VwXmWwVFK",
        "colab_type": "code",
        "outputId": "dd48c730-e7f9-4ecb-d400-c90a8758b8e8",
        "colab": {
          "base_uri": "https://localhost:8080/",
          "height": 573
        }
      },
      "source": [
        "    import matplotlib.pyplot as plt\n",
        "    plt.plot(hist.history['accuracy']) \n",
        "    plt.plot(hist.history['val_accuracy'])\n",
        "    plt.title('model accuracy') \n",
        "    plt.ylabel('accuracy') \n",
        "    plt.xlabel('epoch')\n",
        "    plt.legend(['train', 'test'], loc='upper left')\n",
        "    plt.show()\n",
        "\n",
        "    plt.plot(hist.history['loss'])\n",
        "    plt.plot(hist.history['val_loss'])\n",
        "    plt.title('model loss')\n",
        "    plt.ylabel('loss')\n",
        "    plt.xlabel('epoch')\n",
        "    plt.legend(['train', 'test'], loc='upper left')\n",
        "    plt.show()"
      ],
      "execution_count": 0,
      "outputs": [
        {
          "output_type": "display_data",
          "data": {
            "image/png": "[encoded data removed]",
            "text/plain": [
              "<Figure size 432x288 with 1 Axes>"
            ]
          },
          "metadata": {
            "tags": [],
            "needs_background": "light"
          }
        },
        {
          "output_type": "display_data",
          "data": {
            "image/png": "[encoded data removed]",
            "text/plain": [
              "<Figure size 432x288 with 1 Axes>"
            ]
          },
          "metadata": {
            "tags": [],
            "needs_background": "light"
          }
        }
      ]
    },
    {
      "cell_type": "code",
      "metadata": {
        "id": "1R80lXzEQYQY",
        "colab_type": "code",
        "outputId": "fdd822c7-b5f0-4013-f56b-0428f49505c7",
        "colab": {
          "base_uri": "https://localhost:8080/",
          "height": 666
        }
      },
      "source": [
        "! pip install virtualenv\n",
        "\n",
        "!pip install --upgrade wandb\n",
        "\n",
        "import wandb\n",
        "\n",
        "wandb.init(sync_tensorboard=True)"
      ],
      "execution_count": 0,
      "outputs": [
        {
          "output_type": "stream",
          "text": [
            "Requirement already satisfied: virtualenv in /usr/local/lib/python3.6/dist-packages (20.0.18)\n",
            "Requirement already satisfied: distlib<1,>=0.3.0 in /usr/local/lib/python3.6/dist-packages (from virtualenv) (0.3.0)\n",
            "Requirement already satisfied: filelock<4,>=3.0.0 in /usr/local/lib/python3.6/dist-packages (from virtualenv) (3.0.12)\n",
            "Requirement already satisfied: importlib-metadata<2,>=0.12; python_version < \"3.8\" in /usr/local/lib/python3.6/dist-packages (from virtualenv) (1.6.0)\n",
            "Requirement already satisfied: appdirs<2,>=1.4.3 in /usr/local/lib/python3.6/dist-packages (from virtualenv) (1.4.3)\n",
            "Requirement already satisfied: six<2,>=1.9.0 in /usr/local/lib/python3.6/dist-packages (from virtualenv) (1.12.0)\n",
            "Requirement already satisfied: importlib-resources<2,>=1.0; python_version < \"3.7\" in /usr/local/lib/python3.6/dist-packages (from virtualenv) (1.4.0)\n",
            "Requirement already satisfied: zipp>=0.5 in /usr/local/lib/python3.6/dist-packages (from importlib-metadata<2,>=0.12; python_version < \"3.8\"->virtualenv) (3.1.0)\n",
            "Requirement already up-to-date: wandb in /usr/local/lib/python3.6/dist-packages (0.8.32)\n",
            "Requirement already satisfied, skipping upgrade: sentry-sdk>=0.4.0 in /usr/local/lib/python3.6/dist-packages (from wandb) (0.14.3)\n",
            "Requirement already satisfied, skipping upgrade: gql==0.2.0 in /usr/local/lib/python3.6/dist-packages (from wandb) (0.2.0)\n",
            "Requirement already satisfied, skipping upgrade: configparser>=3.8.1 in /usr/local/lib/python3.6/dist-packages (from wandb) (5.0.0)\n",
            "Requirement already satisfied, skipping upgrade: six>=1.10.0 in /usr/local/lib/python3.6/dist-packages (from wandb) (1.12.0)\n",
            "Requirement already satisfied, skipping upgrade: watchdog>=0.8.3 in /usr/local/lib/python3.6/dist-packages (from wandb) (0.10.2)\n",
            "Requirement already satisfied, skipping upgrade: python-dateutil>=2.6.1 in /usr/local/lib/python3.6/dist-packages (from wandb) (2.8.1)\n",
            "Requirement already satisfied, skipping upgrade: PyYAML>=3.10 in /usr/local/lib/python3.6/dist-packages (from wandb) (3.13)\n",
            "Requirement already satisfied, skipping upgrade: docker-pycreds>=0.4.0 in /usr/local/lib/python3.6/dist-packages (from wandb) (0.4.0)\n",
            "Requirement already satisfied, skipping upgrade: shortuuid>=0.5.0 in /usr/local/lib/python3.6/dist-packages (from wandb) (1.0.1)\n",
            "Requirement already satisfied, skipping upgrade: GitPython>=1.0.0 in /usr/local/lib/python3.6/dist-packages (from wandb) (3.1.1)\n",
            "Requirement already satisfied, skipping upgrade: subprocess32>=3.5.3 in /usr/local/lib/python3.6/dist-packages (from wandb) (3.5.4)\n",
            "Requirement already satisfied, skipping upgrade: Click>=7.0 in /usr/local/lib/python3.6/dist-packages (from wandb) (7.1.1)\n",
            "Requirement already satisfied, skipping upgrade: requests>=2.0.0 in /usr/local/lib/python3.6/dist-packages (from wandb) (2.21.0)\n",
            "Requirement already satisfied, skipping upgrade: nvidia-ml-py3>=7.352.0 in /usr/local/lib/python3.6/dist-packages (from wandb) (7.352.0)\n",
            "Requirement already satisfied, skipping upgrade: psutil>=5.0.0 in /usr/local/lib/python3.6/dist-packages (from wandb) (5.4.8)\n",
            "Requirement already satisfied, skipping upgrade: urllib3>=1.10.0 in /usr/local/lib/python3.6/dist-packages (from sentry-sdk>=0.4.0->wandb) (1.24.3)\n",
            "Requirement already satisfied, skipping upgrade: certifi in /usr/local/lib/python3.6/dist-packages (from sentry-sdk>=0.4.0->wandb) (2020.4.5.1)\n",
            "Requirement already satisfied, skipping upgrade: promise<3,>=2.0 in /usr/local/lib/python3.6/dist-packages (from gql==0.2.0->wandb) (2.3)\n",
            "Requirement already satisfied, skipping upgrade: graphql-core<2,>=0.5.0 in /usr/local/lib/python3.6/dist-packages (from gql==0.2.0->wandb) (1.1)\n",
            "Requirement already satisfied, skipping upgrade: pathtools>=0.1.1 in /usr/local/lib/python3.6/dist-packages (from watchdog>=0.8.3->wandb) (0.1.2)\n",
            "Requirement already satisfied, skipping upgrade: gitdb<5,>=4.0.1 in /usr/local/lib/python3.6/dist-packages (from GitPython>=1.0.0->wandb) (4.0.4)\n",
            "Requirement already satisfied, skipping upgrade: idna<2.9,>=2.5 in /usr/local/lib/python3.6/dist-packages (from requests>=2.0.0->wandb) (2.8)\n",
            "Requirement already satisfied, skipping upgrade: chardet<3.1.0,>=3.0.2 in /usr/local/lib/python3.6/dist-packages (from requests>=2.0.0->wandb) (3.0.4)\n",
            "Requirement already satisfied, skipping upgrade: smmap<4,>=3.0.1 in /usr/local/lib/python3.6/dist-packages (from gitdb<5,>=4.0.1->GitPython>=1.0.0->wandb) (3.0.2)\n"
          ],
          "name": "stdout"
        },
        {
          "output_type": "display_data",
          "data": {
            "text/html": [
              "\n",
              "                Logging results to <a href=\"https://wandb.com\" target=\"_blank\">Weights & Biases</a> <a href=\"https://docs.wandb.com/integrations/jupyter.html\" target=\"_blank\">(Documentation)</a>.<br/>\n",
              "                Project page: <a href=\"https://app.wandb.ai/shrusti/uncategorized\" target=\"_blank\">https://app.wandb.ai/shrusti/uncategorized</a><br/>\n",
              "                Run page: <a href=\"https://app.wandb.ai/shrusti/uncategorized/runs/2jt95ry3\" target=\"_blank\">https://app.wandb.ai/shrusti/uncategorized/runs/2jt95ry3</a><br/>\n",
              "            "
            ],
            "text/plain": [
              "<IPython.core.display.HTML object>"
            ]
          },
          "metadata": {
            "tags": []
          }
        },
        {
          "output_type": "execute_result",
          "data": {
            "text/plain": [
              "W&B Run: https://app.wandb.ai/shrusti/uncategorized/runs/2jt95ry3"
            ]
          },
          "metadata": {
            "tags": []
          },
          "execution_count": 59
        }
      ]
    }
  ]
}